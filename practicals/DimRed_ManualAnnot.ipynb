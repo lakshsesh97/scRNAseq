{
 "cells": [
  {
   "cell_type": "code",
   "execution_count": null,
   "id": "0ac5c2b8-76b6-49b1-8f46-62b7becb7eaf",
   "metadata": {},
   "outputs": [],
   "source": [
    "import pandas as pd\n",
    "import numpy as np\n",
    "import matplotlib.pyplot as plt\n",
    "import seaborn as sns\n",
    "\n",
    "import scanpy as sc"
   ]
  },
  {
   "cell_type": "code",
   "execution_count": null,
   "id": "57750df8-1c1c-4ab2-970d-74a978e17571",
   "metadata": {},
   "outputs": [],
   "source": [
    "import anndata2ri\n",
    "import logging\n",
    "\n",
    "import rpy2.rinterface_lib.callbacks as rcb\n",
    "import rpy2.robjects as ro\n",
    "\n",
    "rcb.logger.setLevel(logging.ERROR)\n",
    "ro.pandas2ri.activate()\n",
    "anndata2ri.activate()\n",
    "\n",
    "%load_ext rpy2.ipython"
   ]
  },
  {
   "cell_type": "code",
   "execution_count": null,
   "id": "404928b0-0c70-4749-bfa0-7b8c79830c1a",
   "metadata": {},
   "outputs": [],
   "source": [
    "from rpy2.robjects import pandas2ri\n",
    "pandas2ri.deactivate()"
   ]
  },
  {
   "cell_type": "code",
   "execution_count": null,
   "id": "d5dbe1fd-9924-41ff-995c-18852e964983",
   "metadata": {},
   "outputs": [],
   "source": [
    "%%R\n",
    "library(Seurat)"
   ]
  },
  {
   "cell_type": "code",
   "execution_count": null,
   "id": "b15e4612-d101-4c84-a42b-8424e47930a1",
   "metadata": {},
   "outputs": [],
   "source": [
    "import warnings\n",
    "warnings.filterwarnings('ignore')"
   ]
  },
  {
   "cell_type": "code",
   "execution_count": null,
   "id": "06c60746-1b53-477c-ad05-c6234248d76c",
   "metadata": {},
   "outputs": [],
   "source": [
    "#feel free to change these settings according to your needs\n",
    "sc.set_figure_params(dpi=80, figsize=(4,4))\n",
    "sc.settings.verbosity=0\n",
    "plt.rcParams['figure.dpi'] = 80\n",
    "plt.rcParams['figure.figsize'] = (4, 4)"
   ]
  },
  {
   "cell_type": "code",
   "execution_count": null,
   "id": "446711dd-07a7-4899-8c2f-caba7ab3b006",
   "metadata": {},
   "outputs": [],
   "source": [
    "adata_total=sc.read(\"pan_endo.h5ad\")\n",
    "adata_total"
   ]
  },
  {
   "cell_type": "code",
   "execution_count": null,
   "id": "6361aca9-7afb-42a9-8863-020f77c7977f",
   "metadata": {},
   "outputs": [],
   "source": [
    "adata = adata_total[:, adata_total.var[\"highly_variable\"]].copy()\n",
    "adata"
   ]
  },
  {
   "cell_type": "code",
   "execution_count": null,
   "id": "5b017314-0c4e-4cb6-8193-6b58ca7b1029",
   "metadata": {},
   "outputs": [],
   "source": [
    "adata.layers[\"count\"]=adata.X.copy()"
   ]
  },
  {
   "cell_type": "code",
   "execution_count": null,
   "id": "04632ad8-6803-450b-bc3f-891fe0a78ba7",
   "metadata": {},
   "outputs": [],
   "source": [
    "adata.X=adata.layers[\"log1p_norm\"].copy()"
   ]
  },
  {
   "cell_type": "code",
   "execution_count": null,
   "id": "be24b172-42ff-49c9-ac03-9381e1c94b2a",
   "metadata": {},
   "outputs": [],
   "source": [
    "sc.pp.pca(adata, n_comps=50)"
   ]
  },
  {
   "cell_type": "code",
   "execution_count": null,
   "id": "ff543da0-fe4d-41d7-9934-d814f44af2b5",
   "metadata": {},
   "outputs": [],
   "source": [
    "sc.pl.pca_variance_ratio(adata, n_pcs=50)"
   ]
  },
  {
   "cell_type": "code",
   "execution_count": null,
   "id": "778a9342-720c-4187-95a9-2809d5720c08",
   "metadata": {},
   "outputs": [],
   "source": [
    "sc.pp.pca(adata, n_comps=50)"
   ]
  },
  {
   "cell_type": "code",
   "execution_count": null,
   "id": "61e26ca0-75cf-45cd-8bf1-6e04ef30d227",
   "metadata": {},
   "outputs": [],
   "source": [
    "sc.pl.pca_scatter(adata, color=[\"total_counts\", \"day\", \"doublet_score\"])"
   ]
  },
  {
   "cell_type": "code",
   "execution_count": null,
   "id": "7e9f0295-00e6-49be-ba63-8b4c9093ad0a",
   "metadata": {},
   "outputs": [],
   "source": [
    "sc.tl.tsne(adata, use_rep=\"X_pca\")"
   ]
  },
  {
   "cell_type": "code",
   "execution_count": null,
   "id": "7fe1ba75-8242-475c-b8e1-2777fb3baa6f",
   "metadata": {},
   "outputs": [],
   "source": [
    "sc.pl.tsne(adata, color=[\"total_counts\", \"day\", \"doublet_score\"])"
   ]
  },
  {
   "cell_type": "code",
   "execution_count": null,
   "id": "cd237034-231b-4838-825f-b5be60d16a7d",
   "metadata": {},
   "outputs": [],
   "source": [
    "#play around with n_neighbors\n",
    "sc.pp.neighbors(adata)\n",
    "#play around with min_dist\n",
    "sc.tl.umap(adata)"
   ]
  },
  {
   "cell_type": "code",
   "execution_count": null,
   "id": "ad171267-3562-4c54-bc25-61326e7a42a1",
   "metadata": {},
   "outputs": [],
   "source": [
    "sc.pl.umap(adata, color=[\"total_counts\", \"day\", \"doublet_score\"])"
   ]
  },
  {
   "cell_type": "code",
   "execution_count": null,
   "id": "ff235005-ab73-43e1-ba29-5b65f3868602",
   "metadata": {},
   "outputs": [],
   "source": [
    "sc.tl.leiden(adata, resolution=0.5, key_added=\"leiden_0.5\")\n",
    "sc.tl.leiden(adata, resolution=1, key_added=\"leiden_1\")"
   ]
  },
  {
   "cell_type": "code",
   "execution_count": null,
   "id": "a2862d1a-5fff-420a-a52f-1517610155f4",
   "metadata": {},
   "outputs": [],
   "source": [
    "adata"
   ]
  },
  {
   "cell_type": "code",
   "execution_count": null,
   "id": "6cc2ad59-eee0-4dbe-abcf-5b0df027e07b",
   "metadata": {},
   "outputs": [],
   "source": [
    "sc.pl.umap(adata, color=[\"leiden_0.5\", \"leiden_1\"], wspace=0.4)"
   ]
  },
  {
   "cell_type": "code",
   "execution_count": null,
   "id": "dff1cfda-c9d2-419b-8f20-a1e84aa6de17",
   "metadata": {},
   "outputs": [],
   "source": [
    "sc.tl.leiden(adata, restrict_to=[\"leiden_0.5\", [\"0\"]], resolution=0.2, key_added=\"leiden_0.5_2\")"
   ]
  },
  {
   "cell_type": "code",
   "execution_count": null,
   "id": "483502c9-5f91-405a-be80-d6cd3d08bd52",
   "metadata": {},
   "outputs": [],
   "source": [
    "sc.pl.umap(adata, color=\"leiden_0.5_2\")"
   ]
  },
  {
   "cell_type": "code",
   "execution_count": null,
   "id": "a2abd362-8a90-4c6d-8b8d-771ed4566e2c",
   "metadata": {},
   "outputs": [],
   "source": [
    "marker_genes = {\n",
    "    \"Multipotent\": [\"Dlk1\", \"Mdk\"],\n",
    "    \"Tip\": [\"Vtn\", \"Myc\", \"Jam3\"],\n",
    "    \"Trunk\":[\"Notch2\", \"Cbx3\"],\n",
    "    \"Acinar\":[\"Cpa1\", \"Cel\", \"Rbpjl\", \"Reep5\"],\n",
    "    \"Ductal\":[\"Sox9\", \"Anxa2\", \"Spp1\"],\n",
    "    \"EP\":[\"Neurog3\", \"Hes6\", \"Btbd17\", \"Gadd45a\"],\n",
    "    \"Fev+\":[\"Fev\", \"Cck\", \"Neurod1\", \"Vwa5b2\", \"Tox3\"],\n",
    "    \"Endocrine\":[\"Rbp4\", \"Pyy\", \"Chgb\", \"Tmem27\", \"Fam183b\"]}"
   ]
  },
  {
   "cell_type": "code",
   "execution_count": null,
   "id": "b4508116-f136-40e1-aa52-2678c1f72640",
   "metadata": {},
   "outputs": [],
   "source": [
    "for cell_type, genes in marker_genes.items():\n",
    "    print(f\"Cell type: {cell_type}\")\n",
    "\n",
    "    # Set up a figure with subplots in a single row\n",
    "    num_genes = len(genes)\n",
    "    fig, axs = plt.subplots(1, num_genes, figsize=(5 * num_genes, 5))  # Adjust figure size as needed\n",
    "\n",
    "    for idx, gene in enumerate(genes):\n",
    "        if gene in adata.var_names:\n",
    "            # Use subplot axes for plotting\n",
    "            ax = axs[idx] if num_genes > 1 else axs\n",
    "            sc.pl.umap(adata, color=gene, title=f\"{gene} in {cell_type}\", ax=ax, show=False, use_raw=False, \n",
    "                       cmap=\"Reds\", frameon=False)\n",
    "        else:\n",
    "            print(f\"{gene} not found in the dataset\")\n",
    "\n",
    "    plt.tight_layout()\n",
    "    plt.show() "
   ]
  },
  {
   "cell_type": "code",
   "execution_count": null,
   "id": "7f08b907-d112-4f9d-bcfe-9b2d51b00b4d",
   "metadata": {},
   "outputs": [],
   "source": [
    "sc.tl.rank_genes_groups(\n",
    "    adata, groupby=\"leiden_0.5\", method=\"wilcoxon\", key_added=\"dea_leiden_0.5\"\n",
    ")"
   ]
  },
  {
   "cell_type": "code",
   "execution_count": null,
   "id": "1403ac48-be6d-433d-9979-fa3c8a4f6c35",
   "metadata": {},
   "outputs": [],
   "source": [
    "sc.pl.rank_genes_groups_dotplot(adata, groupby=\"leiden_0.5\", n_genes=5, standard_scale=\"var\", \n",
    "                                key=\"dea_leiden_0.5\")"
   ]
  },
  {
   "cell_type": "code",
   "execution_count": null,
   "id": "d8c62305-b094-4781-a174-f1e5bc206495",
   "metadata": {},
   "outputs": [],
   "source": [
    "cluster_annotation = {\n",
    "    \"3\": \"Acinar\",\n",
    "    \"5\": \"Acinar\",\n",
    "    \"6\": \"Acinar\"}\n",
    "\n",
    "#you can also use dictionary comprehension: cluster_annotation = {key: \"Acinar\" for key in [\"3\", \"5\", \"6\"]}"
   ]
  },
  {
   "cell_type": "code",
   "execution_count": null,
   "id": "6d133196-20f5-47f4-988b-404086ae314f",
   "metadata": {},
   "outputs": [],
   "source": [
    "adata.obs[\"manual_celltype_annotation\"] = adata.obs[\"leiden_0.5\"].map(cluster_annotation)\n",
    "\n",
    "#in case you want to keep the original value when the key is not found in cluster_annotation dictionary:\n",
    "##adata.obs[\"manual_celltype_annotation\"] = adata.obs[\"leiden_0.5\"].map(lambda x: cluster_annotation.get(x, x))"
   ]
  },
  {
   "cell_type": "code",
   "execution_count": null,
   "id": "6c95a9a5-5a2b-4b77-90ef-15627d488d09",
   "metadata": {},
   "outputs": [],
   "source": [
    "sc.pl.umap(adata, color=\"manual_celltype_annotation\")"
   ]
  },
  {
   "cell_type": "code",
   "execution_count": null,
   "id": "3ec328f3-36a7-4880-9193-434f9c1b9358",
   "metadata": {},
   "outputs": [],
   "source": [
    "adata_curated=sc.read(\"GSE132188_adata.h5ad.h5\")\n",
    "adata_curated"
   ]
  },
  {
   "cell_type": "code",
   "execution_count": null,
   "id": "c8dadbbb-c278-41f1-bcc2-82a08e4c4e45",
   "metadata": {},
   "outputs": [],
   "source": [
    "sc.pl.umap(adata_curated, color=['clusters_fig3_final_noep', 'clusters_fig4_final', 'clusters_fig2_final', 'clusters_fig6_broad_final', \n",
    "                                 'clusters_fig6_fine_final', 'clusters_fig6_alpha_final'], wspace=1, ncols=3)"
   ]
  },
  {
   "cell_type": "code",
   "execution_count": null,
   "id": "731770f5-8d45-42fa-b65a-1fc65427b6ce",
   "metadata": {},
   "outputs": [],
   "source": [
    "adata"
   ]
  },
  {
   "cell_type": "code",
   "execution_count": null,
   "id": "6807ad51-e61c-4c21-8344-aa01559de732",
   "metadata": {},
   "outputs": [],
   "source": [
    "adata.obs[\"annotation_curated\"]=adata_curated.obs[\"clusters_fig6_broad_final\"]"
   ]
  },
  {
   "cell_type": "code",
   "execution_count": null,
   "id": "ab101d2e-f1ed-4f95-aed4-56da53ea3156",
   "metadata": {},
   "outputs": [],
   "source": [
    "sc.pl.umap(adata, color=\"annotation_curated\")"
   ]
  },
  {
   "cell_type": "code",
   "execution_count": null,
   "id": "cba57cfe-7180-422f-902d-ed46787d20ea",
   "metadata": {},
   "outputs": [],
   "source": [
    "adata.write(\"adata_version02.h5ad\")"
   ]
  },
  {
   "cell_type": "code",
   "execution_count": null,
   "id": "3cd6ffad-4fb4-477b-8b66-798892a49fe7",
   "metadata": {},
   "outputs": [],
   "source": []
  },
  {
   "cell_type": "code",
   "execution_count": null,
   "id": "b071ff14-4785-4b5e-b5a4-1b60b76b4a96",
   "metadata": {},
   "outputs": [],
   "source": []
  },
  {
   "cell_type": "code",
   "execution_count": null,
   "id": "a819c08f-532e-406c-bfda-bc21fcefe981",
   "metadata": {},
   "outputs": [],
   "source": []
  }
 ],
 "metadata": {
  "kernelspec": {
   "display_name": "Python 3 (ipykernel)",
   "language": "python",
   "name": "python3"
  },
  "language_info": {
   "codemirror_mode": {
    "name": "ipython",
    "version": 3
   },
   "file_extension": ".py",
   "mimetype": "text/x-python",
   "name": "python",
   "nbconvert_exporter": "python",
   "pygments_lexer": "ipython3",
   "version": "3.11.8"
  }
 },
 "nbformat": 4,
 "nbformat_minor": 5
}
