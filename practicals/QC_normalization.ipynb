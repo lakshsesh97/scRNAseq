{
 "cells": [
  {
   "cell_type": "code",
   "execution_count": null,
   "id": "a48cc4ce-d229-47af-b608-4c13b4e81dc0",
   "metadata": {},
   "outputs": [],
   "source": [
    "import pandas as pd\n",
    "import numpy as np\n",
    "import matplotlib.pyplot as plt\n",
    "import seaborn as sns\n",
    "\n",
    "import scanpy as sc"
   ]
  },
  {
   "cell_type": "code",
   "execution_count": null,
   "id": "aad30e5f-2881-4afb-8a8e-9917740bc42f",
   "metadata": {},
   "outputs": [],
   "source": [
    "%matplotlib inline"
   ]
  },
  {
   "cell_type": "code",
   "execution_count": null,
   "id": "4818cbc9-2ae3-41d0-97dd-7b7ab10bd336",
   "metadata": {},
   "outputs": [],
   "source": [
    "import warnings\n",
    "\n",
    "warnings.filterwarnings('ignore')"
   ]
  },
  {
   "cell_type": "code",
   "execution_count": null,
   "id": "11010709-e8f3-4cd4-aff1-8552d1c604e2",
   "metadata": {},
   "outputs": [],
   "source": [
    "sc.set_figure_params(dpi=80, figsize=(4,4))\n",
    "\n",
    "sc.settings.verbosity=0"
   ]
  },
  {
   "cell_type": "code",
   "execution_count": null,
   "id": "c0a1be11-4090-4a2b-ab40-f536c8eca094",
   "metadata": {},
   "outputs": [],
   "source": [
    "# Read cellranger files for all four samples\n",
    "filename = './GSE132188_RAW/E12_5/matrix.mtx'\n",
    "filename_genes = './GSE132188_RAW/E12_5/genes.tsv'\n",
    "filename_barcodes = './GSE132188_RAW/E12_5/barcodes.tsv'\n",
    "\n",
    "#cells should be as rows and genes as columns\n",
    "e125 = sc.read(filename).transpose()\n",
    "\n",
    "e125.var_names = np.genfromtxt(filename_genes, dtype=str)[:, 1]\n",
    "e125.obs_names = np.genfromtxt(filename_barcodes, dtype=str)"
   ]
  },
  {
   "cell_type": "code",
   "execution_count": null,
   "id": "58169d52-c6e7-4397-9c71-bcf33c1ab0b0",
   "metadata": {},
   "outputs": [],
   "source": [
    "e125"
   ]
  },
  {
   "cell_type": "code",
   "execution_count": null,
   "id": "418a8910-6eea-4f92-bfe0-38587d693fd5",
   "metadata": {},
   "outputs": [],
   "source": [
    "filename = './GSE132188_RAW/E13_5/matrix.mtx'\n",
    "filename_genes = './GSE132188_RAW/E13_5/genes.tsv'\n",
    "filename_barcodes = './GSE132188_RAW/E13_5/barcodes.tsv'\n",
    "\n",
    "e135 = sc.read(filename).transpose()\n",
    "e135.var_names = np.genfromtxt(filename_genes, dtype=str)[:, 1]\n",
    "e135.obs_names = np.genfromtxt(filename_barcodes, dtype=str)"
   ]
  },
  {
   "cell_type": "code",
   "execution_count": null,
   "id": "7256f956-368f-4010-a020-8cc1ed85910c",
   "metadata": {},
   "outputs": [],
   "source": [
    "e135"
   ]
  },
  {
   "cell_type": "code",
   "execution_count": null,
   "id": "445c4273-714a-41d5-ae3a-5bc479c6118d",
   "metadata": {},
   "outputs": [],
   "source": [
    "filename = './GSE132188_RAW/E14_5/matrix.mtx'\n",
    "filename_genes = './GSE132188_RAW/E14_5/genes.tsv'\n",
    "filename_barcodes = './GSE132188_RAW/E14_5/barcodes.tsv'\n",
    "\n",
    "e145 = sc.read(filename).transpose()\n",
    "e145.var_names = np.genfromtxt(filename_genes, dtype=str)[:, 1]\n",
    "e145.obs_names = np.genfromtxt(filename_barcodes, dtype=str)"
   ]
  },
  {
   "cell_type": "code",
   "execution_count": null,
   "id": "ff7d30f5-3447-4c0e-ad25-f06b54f1b27f",
   "metadata": {},
   "outputs": [],
   "source": [
    "e145"
   ]
  },
  {
   "cell_type": "code",
   "execution_count": null,
   "id": "507c11f9-a25f-427c-a117-64a9ba46c28a",
   "metadata": {},
   "outputs": [],
   "source": [
    "filename = './GSE132188_RAW/E15_5/matrix.mtx'\n",
    "filename_genes = './GSE132188_RAW/E15_5/genes.tsv'\n",
    "filename_barcodes = './GSE132188_RAW/E15_5/barcodes.tsv'\n",
    "\n",
    "e155 = sc.read(filename).transpose()\n",
    "e155.var_names = np.genfromtxt(filename_genes, dtype=str)[:, 1]\n",
    "e155.obs_names = np.genfromtxt(filename_barcodes, dtype=str)"
   ]
  },
  {
   "cell_type": "code",
   "execution_count": null,
   "id": "2d2564c2-b206-40cc-b2e6-ab88c3890355",
   "metadata": {},
   "outputs": [],
   "source": [
    "genes=pd.read_csv(filename_genes, header=None, sep=\"\\t\")\n",
    "genes"
   ]
  },
  {
   "cell_type": "code",
   "execution_count": null,
   "id": "0d7c05b6-d28d-4cec-be13-33e12a80382d",
   "metadata": {},
   "outputs": [],
   "source": [
    "e155"
   ]
  },
  {
   "cell_type": "code",
   "execution_count": null,
   "id": "4aaa22d3-f7df-4d11-b261-5aa54c326d79",
   "metadata": {},
   "outputs": [],
   "source": [
    "# Add dev. timepoint label for each sample\n",
    "e125.obs['day'] = '12.5'\n",
    "e135.obs['day'] = '13.5'\n",
    "e145.obs['day'] = '14.5'\n",
    "e155.obs['day'] = '15.5'"
   ]
  },
  {
   "cell_type": "code",
   "execution_count": null,
   "id": "dec5f407-37b9-4f98-a667-7daff36f308a",
   "metadata": {},
   "outputs": [],
   "source": [
    "#create a list of four anndata objects\n",
    "adatas=[e125, e135, e145, e155]"
   ]
  },
  {
   "cell_type": "code",
   "execution_count": null,
   "id": "74cdab77-0914-4a52-900c-c9f691a5e40e",
   "metadata": {},
   "outputs": [],
   "source": [
    "#making observation and variable names unique for each anndata object\n",
    "for i, adata in enumerate(adatas):\n",
    "    # Reset index with a suffix to ensure uniqueness\n",
    "    adata.obs_names_make_unique(join='-')\n",
    "    adata.var_names_make_unique(join='-')"
   ]
  },
  {
   "cell_type": "code",
   "execution_count": null,
   "id": "10845924-4acb-4623-9183-7d2836b21d7e",
   "metadata": {},
   "outputs": [],
   "source": [
    "# Create Concatenated anndata object for all timepoints\n",
    "adata = adatas[0].concatenate(adatas[1:], batch_key='batch', index_unique='-')\n",
    "# Deleting individual day arrays\n",
    "#del e125\n",
    "#del e135\n",
    "#del e145\n",
    "#del e155"
   ]
  },
  {
   "cell_type": "code",
   "execution_count": null,
   "id": "083806ef-7aa5-48ab-a316-5474c8977d9e",
   "metadata": {},
   "outputs": [],
   "source": [
    "adata.obs"
   ]
  },
  {
   "cell_type": "code",
   "execution_count": null,
   "id": "1382c8a9-e5f0-45fe-8970-918ebe6d57cc",
   "metadata": {},
   "outputs": [],
   "source": [
    "# mitochondrial genes\n",
    "adata.var[\"mt\"] = adata.var_names.str.startswith(\"mt-\")"
   ]
  },
  {
   "cell_type": "code",
   "execution_count": null,
   "id": "46212942-5c8d-4e27-ab0d-3ab39f0f6da8",
   "metadata": {},
   "outputs": [],
   "source": [
    "adata"
   ]
  },
  {
   "cell_type": "code",
   "execution_count": null,
   "id": "75a1b685-8be9-4ed0-943d-64a9995659aa",
   "metadata": {},
   "outputs": [],
   "source": [
    "adata.var['mt'].value_counts()"
   ]
  },
  {
   "cell_type": "code",
   "execution_count": null,
   "id": "2d14c706-26e8-47ea-a4b3-666a03459f9a",
   "metadata": {},
   "outputs": [],
   "source": [
    "sc.pp.calculate_qc_metrics(adata, qc_vars=[\"mt\"], inplace=True)"
   ]
  },
  {
   "cell_type": "code",
   "execution_count": null,
   "id": "de637c25-687f-4104-95e1-bbbb2b226d58",
   "metadata": {},
   "outputs": [],
   "source": [
    "adata"
   ]
  },
  {
   "cell_type": "code",
   "execution_count": null,
   "id": "5b6e57d3-f53f-4b4f-afe7-ca0aa82729be",
   "metadata": {},
   "outputs": [],
   "source": [
    "sc.pl.violin(adata, keys=[\"n_genes_by_counts\"])\n",
    "sc.pl.violin(adata, keys=[\"total_counts\"])\n",
    "sc.pl.violin(adata, keys=[\"pct_counts_mt\"])"
   ]
  },
  {
   "cell_type": "code",
   "execution_count": null,
   "id": "fa788e75-2394-4441-b248-1d515c678ed6",
   "metadata": {},
   "outputs": [],
   "source": [
    "sns.displot(adata.obs[\"total_counts\"], bins=100, kde=False)"
   ]
  },
  {
   "cell_type": "code",
   "execution_count": null,
   "id": "f30a0d96-1560-414b-bb7f-c8b5ebdab9e7",
   "metadata": {},
   "outputs": [],
   "source": [
    "sns.displot(adata.obs[\"log1p_total_counts\"], bins=100, kde=False)"
   ]
  },
  {
   "cell_type": "code",
   "execution_count": null,
   "id": "8c903a8d-af37-4940-aa76-dfa040a8b670",
   "metadata": {},
   "outputs": [],
   "source": [
    "# #counts per cell\n",
    "adata.obs['n_counts'] = adata.X.sum(1)\n",
    "# #logcounts per cell\n",
    "adata.obs['log_counts'] = np.log(adata.obs['n_counts'])\n",
    "# #genes per cell\n",
    "adata.obs['n_genes'] = (adata.X > 0).sum(1)\n",
    "# mitochondrial gene fraction\n",
    "mt_gene_mask = [gene.startswith('mt-') for gene in adata.var_names]\n",
    "mt_gene_index = np.where(mt_gene_mask)[0]\n",
    "adata.obs['mt_frac'] = adata.X[:,mt_gene_index].sum(1) / adata.X.sum(1)"
   ]
  },
  {
   "cell_type": "code",
   "execution_count": null,
   "id": "720fa8b4-307f-462e-b97b-f3b557e735ba",
   "metadata": {},
   "outputs": [],
   "source": [
    "adata"
   ]
  },
  {
   "cell_type": "code",
   "execution_count": null,
   "id": "8be53f44-9e4e-4240-9b88-ad78f620eb1b",
   "metadata": {},
   "outputs": [],
   "source": [
    "adata.raw=adata"
   ]
  },
  {
   "cell_type": "code",
   "execution_count": null,
   "id": "77f72b0b-b8d4-4bbe-96e9-9c26cf727f4d",
   "metadata": {},
   "outputs": [],
   "source": [
    "print('Total number of cells: {:d}'.format(adata.n_obs))\n",
    "adata = adata[adata.obs['mt_frac'] < 0.2]\n",
    "print('Number of cells after MT filter: {:d}'.format(adata.n_obs))\n",
    "\n",
    "sc.pp.filter_cells(adata, min_genes = 1200)\n",
    "print('Number of cells after gene filter: {:d}'.format(adata.n_obs))\n",
    "#Filter genes:\n",
    "print('Total number of genes: {:d}'.format(adata.n_vars))\n",
    "\n",
    "# Min 20 cells - filters out 0 count genes\n",
    "sc.pp.filter_genes(adata, min_cells=20)\n",
    "print('Number of genes after cell filter: {:d}'.format(adata.n_vars))"
   ]
  },
  {
   "cell_type": "code",
   "execution_count": null,
   "id": "31a9ac27-a498-4c6f-92ee-40995d6c1424",
   "metadata": {},
   "outputs": [],
   "source": [
    "adata"
   ]
  },
  {
   "cell_type": "code",
   "execution_count": null,
   "id": "2a92ecc1-bbca-443b-ac96-1d35e6346431",
   "metadata": {},
   "outputs": [],
   "source": [
    "adata.raw.to_adata()"
   ]
  },
  {
   "cell_type": "code",
   "execution_count": null,
   "id": "c0cd15fc-54f8-4c07-b9d0-7e6e02dbc61c",
   "metadata": {},
   "outputs": [],
   "source": [
    "sc.external.pp.scrublet(adata, batch_key=\"batch\")"
   ]
  },
  {
   "cell_type": "code",
   "execution_count": null,
   "id": "d24ed4c7-48a5-43ea-a512-e80e72c35832",
   "metadata": {},
   "outputs": [],
   "source": [
    "adata"
   ]
  },
  {
   "cell_type": "code",
   "execution_count": null,
   "id": "859ce762-543b-427b-a4b3-cc6bded740ac",
   "metadata": {},
   "outputs": [],
   "source": [
    "scales_counts = sc.pp.normalize_total(adata, inplace=False)\n",
    "# log1p transform\n",
    "adata.layers[\"log1p_norm\"] = sc.pp.log1p(scales_counts[\"X\"], copy=True)"
   ]
  },
  {
   "cell_type": "code",
   "execution_count": null,
   "id": "59d4adb5-0058-4775-a157-62ce04edccc7",
   "metadata": {},
   "outputs": [],
   "source": [
    "adata.X.toarray()"
   ]
  },
  {
   "cell_type": "code",
   "execution_count": null,
   "id": "4a9acf3b-8eed-4f98-bebc-07c3959e7737",
   "metadata": {},
   "outputs": [],
   "source": [
    "adata.layers[\"log1p_norm\"].toarray()"
   ]
  },
  {
   "cell_type": "code",
   "execution_count": null,
   "id": "2ba27c29-5aaa-407e-bfa0-7ca53e02196b",
   "metadata": {},
   "outputs": [],
   "source": [
    "sc.pp.highly_variable_genes(adata, layer=\"log1p_norm\", batch_key=\"batch\", n_top_genes=4000)"
   ]
  },
  {
   "cell_type": "code",
   "execution_count": null,
   "id": "0fbc409f-1758-4ed5-8e4b-5b238033fa75",
   "metadata": {},
   "outputs": [],
   "source": [
    "adata"
   ]
  },
  {
   "cell_type": "code",
   "execution_count": null,
   "id": "3fec8de7-4259-4f2a-b336-ca829e399910",
   "metadata": {},
   "outputs": [],
   "source": [
    "ax = sns.scatterplot(\n",
    "    data=adata.var, x=\"means\", y=\"dispersions\", hue=\"highly_variable\", s=5\n",
    ")\n",
    "ax.set_xlim(None, 1.5)\n",
    "ax.set_ylim(None, 3)\n",
    "plt.show()"
   ]
  },
  {
   "cell_type": "code",
   "execution_count": null,
   "id": "33fc5ee3-799d-4420-bbfc-038930c9671d",
   "metadata": {},
   "outputs": [],
   "source": [
    "adata.write(\"pan_endo.h5ad\")"
   ]
  },
  {
   "cell_type": "code",
   "execution_count": null,
   "id": "05d02574-4725-412d-80d0-cc5782756ee4",
   "metadata": {},
   "outputs": [],
   "source": []
  }
 ],
 "metadata": {
  "kernelspec": {
   "display_name": "Python 3 (ipykernel)",
   "language": "python",
   "name": "python3"
  },
  "language_info": {
   "codemirror_mode": {
    "name": "ipython",
    "version": 3
   },
   "file_extension": ".py",
   "mimetype": "text/x-python",
   "name": "python",
   "nbconvert_exporter": "python",
   "pygments_lexer": "ipython3",
   "version": "3.10.13"
  }
 },
 "nbformat": 4,
 "nbformat_minor": 5
}
