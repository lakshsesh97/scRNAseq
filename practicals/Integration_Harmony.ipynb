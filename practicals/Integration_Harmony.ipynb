{
 "cells": [
  {
   "cell_type": "code",
   "execution_count": null,
   "id": "e592aea4-16da-4dad-a5fb-eab2272f5e91",
   "metadata": {},
   "outputs": [],
   "source": [
    "import pandas as pd\n",
    "import numpy as np\n",
    "import matplotlib.pyplot as plt\n",
    "import seaborn as sns\n",
    "\n",
    "import scanpy as sc"
   ]
  },
  {
   "cell_type": "code",
   "execution_count": null,
   "id": "77c18558-d3e7-4e13-8091-2a3397a6b986",
   "metadata": {},
   "outputs": [],
   "source": [
    "#feel free to change these settings according to your needs\n",
    "sc.set_figure_params(dpi=80, figsize=(4,4))\n",
    "sc.settings.verbosity=0\n",
    "plt.rcParams['figure.dpi'] = 80\n",
    "plt.rcParams['figure.figsize'] = (4, 4)"
   ]
  },
  {
   "cell_type": "code",
   "execution_count": null,
   "id": "b8bfb20d-a81c-4521-a90d-20044f0eaf84",
   "metadata": {},
   "outputs": [],
   "source": [
    "adata=sc.read(\"adata_version02.h5ad\")\n",
    "adata"
   ]
  },
  {
   "cell_type": "code",
   "execution_count": null,
   "id": "d6c5eae9-cb32-4a36-af54-bc0ff9bd4c2a",
   "metadata": {},
   "outputs": [],
   "source": [
    "#subset endocrine cells\n",
    "adata_endo=adata[adata.obs[\"annotation_curated\"].isin([\"Ngn3 low EP\", \"Ngn3 high EP\", \"Fev+\", \n",
    "                                                       \"Beta\", \"Alpha\", \"Delta\", \"Epsilon\"])]\n",
    "adata_endo"
   ]
  },
  {
   "cell_type": "code",
   "execution_count": null,
   "id": "ddd67591-1c6d-428a-8c96-64734ed328f7",
   "metadata": {},
   "outputs": [],
   "source": [
    "sc.pl.umap(adata_endo, color=['annotation_curated', 'day'])"
   ]
  },
  {
   "cell_type": "code",
   "execution_count": null,
   "id": "b92a6fdc-b90c-419d-85c2-1af7825959e6",
   "metadata": {},
   "outputs": [],
   "source": [
    "#### Before running Hramony the dataset should be normalized and PCA should be done on that"
   ]
  },
  {
   "cell_type": "code",
   "execution_count": null,
   "id": "1cd20b4a-a1b8-498b-8f17-6dbaed9417ee",
   "metadata": {},
   "outputs": [],
   "source": [
    "sc.external.pp.harmony_integrate(adata_endo, key=\"batch\")"
   ]
  },
  {
   "cell_type": "code",
   "execution_count": null,
   "id": "7ddf6721-cdf3-4f3e-a927-365419445539",
   "metadata": {},
   "outputs": [],
   "source": [
    "adata_endo"
   ]
  },
  {
   "cell_type": "code",
   "execution_count": null,
   "id": "152150a3-dc5d-4bd5-9c17-e387f3162da9",
   "metadata": {},
   "outputs": [],
   "source": [
    "sc.pp.neighbors(adata_endo, use_rep=\"X_pca_harmony\")"
   ]
  },
  {
   "cell_type": "code",
   "execution_count": null,
   "id": "8693ee44-4634-4346-90bc-599e1e39bda7",
   "metadata": {},
   "outputs": [],
   "source": [
    "sc.tl.umap(adata_endo)"
   ]
  },
  {
   "cell_type": "code",
   "execution_count": null,
   "id": "97b2bfb3-0582-4529-89cd-1cb63c0dfd51",
   "metadata": {},
   "outputs": [],
   "source": [
    "sc.pl.umap(adata_endo, color=[\"annotation_curated\", \"day\"])"
   ]
  },
  {
   "cell_type": "code",
   "execution_count": null,
   "id": "90a6c864-659f-46bc-9a27-895c4d7c0284",
   "metadata": {},
   "outputs": [],
   "source": []
  }
 ],
 "metadata": {
  "kernelspec": {
   "display_name": "env2 new Scanpy",
   "language": "python",
   "name": "new_scanpy"
  },
  "language_info": {
   "codemirror_mode": {
    "name": "ipython",
    "version": 3
   },
   "file_extension": ".py",
   "mimetype": "text/x-python",
   "name": "python",
   "nbconvert_exporter": "python",
   "pygments_lexer": "ipython3",
   "version": "3.11.8"
  }
 },
 "nbformat": 4,
 "nbformat_minor": 5
}
