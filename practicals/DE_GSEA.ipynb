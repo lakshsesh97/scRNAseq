{
 "cells": [
  {
   "cell_type": "markdown",
   "id": "104f2c11-cf23-4603-81f4-bd7f35352925",
   "metadata": {},
   "source": [
    "Activate new_scanpy with the following before opening this notebook:\n",
    "conda activate new_scanpy\n",
    "\n",
    "Then, run: \n",
    "jupyter lab"
   ]
  },
  {
   "cell_type": "markdown",
   "id": "800a7ec3-d75f-49cd-b0d4-6575c79bad7e",
   "metadata": {},
   "source": [
    "We will use the Kang dataset, which is a 10x droplet-based scRNA-seq peripheral blood mononuclear cell (PBMC) data from 8 Lupus patients before and after 6h-treatment with INF-β (16 samples in total)[Kang et al., 2018]."
   ]
  },
  {
   "cell_type": "code",
   "execution_count": null,
   "id": "2a06f529-c400-4d78-a0ee-feedce3370e6",
   "metadata": {},
   "outputs": [],
   "source": [
    "import pandas as pd\n",
    "import numpy as np\n",
    "import matplotlib.pyplot as plt\n",
    "import seaborn as sns\n",
    "import random\n",
    "\n",
    "import scanpy as sc"
   ]
  },
  {
   "cell_type": "code",
   "execution_count": null,
   "id": "d106ef5e-1867-4be1-83c4-bb9a65ac0f8f",
   "metadata": {},
   "outputs": [],
   "source": [
    "import os\n",
    "import pickle as pkl\n",
    "\n",
    "from pydeseq2.dds import DeseqDataSet\n",
    "from pydeseq2.default_inference import DefaultInference\n",
    "from pydeseq2.ds import DeseqStats\n",
    "import gseapy"
   ]
  },
  {
   "cell_type": "code",
   "execution_count": null,
   "id": "b33bf61d-1240-450a-8811-70a083a8aabc",
   "metadata": {},
   "outputs": [],
   "source": [
    "#feel free to change these settings according to your needs\n",
    "sc.set_figure_params(dpi=80, figsize=(4,4))\n",
    "sc.settings.verbosity=0\n",
    "plt.rcParams['figure.dpi'] = 80\n",
    "plt.rcParams['figure.figsize'] = (4, 4)"
   ]
  },
  {
   "cell_type": "code",
   "execution_count": null,
   "id": "ad3892f0-6f19-4d44-9c0c-b494c3b86b58",
   "metadata": {},
   "outputs": [],
   "source": [
    "#we are just going to use the Kang dataset from pertpy package \n",
    "import pertpy"
   ]
  },
  {
   "cell_type": "code",
   "execution_count": null,
   "id": "434890ef-1124-4956-b0b0-75e5e04d69c6",
   "metadata": {},
   "outputs": [],
   "source": [
    "adata = pertpy.data.kang_2018()\n",
    "adata"
   ]
  },
  {
   "cell_type": "code",
   "execution_count": null,
   "id": "2f0c37d6-b688-47df-8cc0-7f155b280789",
   "metadata": {},
   "outputs": [],
   "source": [
    "#filtering out cells and genes\n",
    "sc.pp.filter_cells(adata, min_genes=200)\n",
    "sc.pp.filter_genes(adata, min_cells=3)\n",
    "adata"
   ]
  },
  {
   "cell_type": "code",
   "execution_count": null,
   "id": "3714be10-3fc7-4d53-9340-a8c5812b9660",
   "metadata": {},
   "outputs": [],
   "source": [
    "#creating a patient-condition column\n",
    "adata.obs[\"sample\"] = [\n",
    "    f\"{rep}_{l}\" for rep, l in zip(adata.obs[\"replicate\"], adata.obs[\"label\"])\n",
    "]"
   ]
  },
  {
   "cell_type": "code",
   "execution_count": null,
   "id": "95a628c3-383e-48bf-9b1a-0fa64d6d44a0",
   "metadata": {},
   "outputs": [],
   "source": [
    "adata.obs"
   ]
  },
  {
   "cell_type": "markdown",
   "id": "666ea77b-d88e-496f-8607-d758579a3fe6",
   "metadata": {},
   "source": [
    "We run the pipeline on CD14+ Monocytes subset of the data, as it was shown in the paper that the highest number of DE genes was identified in this subpopulation."
   ]
  },
  {
   "cell_type": "code",
   "execution_count": null,
   "id": "ff227d16-473d-4c44-8402-b1e97a16a4ca",
   "metadata": {},
   "outputs": [],
   "source": [
    "#subset CD14+ Monocytes\n",
    "mono=adata[adata.obs[\"cell_type\"].isin([\"CD14+ Monocytes\"])]\n",
    "mono"
   ]
  },
  {
   "cell_type": "code",
   "execution_count": null,
   "id": "4aad5c0a-54c1-45c2-9910-b7ac64357e17",
   "metadata": {},
   "outputs": [],
   "source": [
    "#aggregate data matrix based on sample to create pseudobalks\n",
    "mono_agg=sc.get.aggregate(mono, by=\"sample\", func=['sum'])"
   ]
  },
  {
   "cell_type": "code",
   "execution_count": null,
   "id": "4b5e5aba-a325-43f0-9fb9-961d384d17dc",
   "metadata": {},
   "outputs": [],
   "source": [
    "mono_agg"
   ]
  },
  {
   "cell_type": "code",
   "execution_count": null,
   "id": "70886d5f-c362-4d7a-ae90-1ec6e3eace89",
   "metadata": {},
   "outputs": [],
   "source": [
    "mono_agg.X=mono_agg.layers[\"sum\"]"
   ]
  },
  {
   "cell_type": "code",
   "execution_count": null,
   "id": "123743b2-1436-48fb-9e98-abb2f9ba89af",
   "metadata": {},
   "outputs": [],
   "source": [
    "mono_agg.obs"
   ]
  },
  {
   "cell_type": "code",
   "execution_count": null,
   "id": "885d99ef-b283-4d85-b83b-a57c93af937b",
   "metadata": {},
   "outputs": [],
   "source": [
    "mono_agg.X"
   ]
  },
  {
   "cell_type": "code",
   "execution_count": null,
   "id": "a502f260-7ff6-4fee-b0ad-88cf3efb9bf3",
   "metadata": {},
   "outputs": [],
   "source": [
    "#PyDESeq2 needs a Pandas DataFrame of count matrix with obs_names as row names and var_names as column names\n",
    "counts_df = pd.DataFrame(mono_agg.X, index=mono_agg.obs_names, columns=mono.var_names)\n",
    "counts_df"
   ]
  },
  {
   "cell_type": "code",
   "execution_count": null,
   "id": "b3bd2fc7-1f2f-4f74-8e28-9075fdf40249",
   "metadata": {},
   "outputs": [],
   "source": [
    "additional_metadata = {\n",
    "    'patient_1015_ctrl': 'ctrl',\n",
    "    'patient_1015_stim': 'stim',\n",
    "    'patient_1016_ctrl':'ctrl',\n",
    "    'patient_1016_stim':'stim',\n",
    "    'patient_101_ctrl':'ctrl',\n",
    "    'patient_101_stim':'stim',\n",
    "    'patient_1039_ctrl':'ctrl',\n",
    "    'patient_1039_stim':'stim',\n",
    "    'patient_107_ctrl':'ctrl',\n",
    "    'patient_107_stim':'stim',\n",
    "    'patient_1244_ctrl':'ctrl',\n",
    "    'patient_1244_stim':'stim',\n",
    "    'patient_1256_ctrl':'ctrl',\n",
    "    'patient_1256_stim':'stim',\n",
    "    'patient_1488_ctrl':'ctrl',\n",
    "    'patient_1488_stim':'stim'\n",
    "    # Add more samples as needed\n",
    "}\n",
    "\n",
    "# Add this metadata as a new column in the .obs DataFrame\n",
    "mono_agg.obs['label'] = mono_agg.obs.index.map(additional_metadata)\n",
    "\n",
    "#you also use loop:\n",
    "#patient_ids = [1015, 1016, 101, 1039, 107, 1244, 1256, 1488]\n",
    "#labels = ['ctrl', 'stim'] \n",
    "#additional_metadata = {f'patient_{id}_{label}': label for id in patient_ids for label in labels}\n",
    "#mono_agg.obs['label'] = mono_agg.obs.index.map(additional_metadata)\n"
   ]
  },
  {
   "cell_type": "code",
   "execution_count": null,
   "id": "e21a8547-7fbe-4ad9-b50c-3e5044ec6b2a",
   "metadata": {},
   "outputs": [],
   "source": [
    "mono_agg"
   ]
  },
  {
   "cell_type": "code",
   "execution_count": null,
   "id": "466b8ab0-1686-4a92-a07d-300a42d2638c",
   "metadata": {},
   "outputs": [],
   "source": [
    "additional_metadata02 = {\n",
    "    'patient_1015_ctrl': 'patient_1015',\n",
    "    'patient_1015_stim': 'patient_1015',\n",
    "    'patient_1016_ctrl':'patient_1016',\n",
    "    'patient_1016_stim':'patient_1016',\n",
    "    'patient_101_ctrl':'patient_101',\n",
    "    'patient_101_stim':'patient_101',\n",
    "    'patient_1039_ctrl':'patient_1039',\n",
    "    'patient_1039_stim':'patient_1039',\n",
    "    'patient_107_ctrl':'patient_107',\n",
    "    'patient_107_stim':'patient_107',\n",
    "    'patient_1244_ctrl':'patient_1244',\n",
    "    'patient_1244_stim':'patient_1244',\n",
    "    'patient_1256_ctrl':'patient_1256',\n",
    "    'patient_1256_stim':'patient_1256',\n",
    "    'patient_1488_ctrl':'patient_1488',\n",
    "    'patient_1488_stim':'patient_1488'\n",
    "    # Add more samples as needed\n",
    "}\n",
    "\n",
    "# Add this metadata as a new column in the .obs DataFrame\n",
    "mono_agg.obs['replicate'] = mono_agg.obs.index.map(additional_metadata02)\n"
   ]
  },
  {
   "cell_type": "code",
   "execution_count": null,
   "id": "cabe764c-60b6-4752-8f2e-165e31a3617c",
   "metadata": {},
   "outputs": [],
   "source": [
    "mono_agg.obs"
   ]
  },
  {
   "cell_type": "code",
   "execution_count": null,
   "id": "1881d485-fb64-4e2c-a88d-052a509824e9",
   "metadata": {},
   "outputs": [],
   "source": [
    "metadata = sc.get.obs_df(mono_agg, keys = [\"label\", \"replicate\"])"
   ]
  },
  {
   "cell_type": "code",
   "execution_count": null,
   "id": "f1bf6c84-e08a-4952-ac12-1c6a2e7afdc7",
   "metadata": {},
   "outputs": [],
   "source": [
    "samples_to_keep = ~metadata.label.isna()\n",
    "counts_df = counts_df.loc[samples_to_keep]\n",
    "metadata = metadata.loc[samples_to_keep]"
   ]
  },
  {
   "cell_type": "code",
   "execution_count": null,
   "id": "6fbe780f-e08c-4251-98a3-0c34de58bbcb",
   "metadata": {},
   "outputs": [],
   "source": [
    "genes_to_keep = counts_df.columns[counts_df.sum(axis=0) >= 10]\n",
    "counts_df = counts_df[genes_to_keep]"
   ]
  },
  {
   "cell_type": "code",
   "execution_count": null,
   "id": "23a7705c-4437-485a-913d-74accf42a096",
   "metadata": {},
   "outputs": [],
   "source": [
    "#creating a DeseqDataSet object\n",
    "inference = DefaultInference(n_cpus=8)\n",
    "dds = DeseqDataSet(\n",
    "    counts=counts_df,\n",
    "    metadata=metadata,\n",
    "    design_factors=\"label\",\n",
    "    refit_cooks=True,\n",
    "    inference=inference,\n",
    ")"
   ]
  },
  {
   "cell_type": "code",
   "execution_count": null,
   "id": "8155d428-c14d-425e-ab52-bbd96cb0bb9e",
   "metadata": {},
   "outputs": [],
   "source": [
    "#running deseq2() method to fit dispersions and LFCs\n",
    "dds.deseq2()"
   ]
  },
  {
   "cell_type": "code",
   "execution_count": null,
   "id": "0a52d9d9-0325-4ef4-bc8e-f43cd8375d88",
   "metadata": {},
   "outputs": [],
   "source": [
    "print(dds)"
   ]
  },
  {
   "cell_type": "code",
   "execution_count": null,
   "id": "6a1b5ad8-fdb6-4108-b08f-eda60719b524",
   "metadata": {},
   "outputs": [],
   "source": [
    "print(dds.varm[\"dispersions\"])"
   ]
  },
  {
   "cell_type": "code",
   "execution_count": null,
   "id": "11d10320-d05a-40e4-9736-a38edbe67725",
   "metadata": {},
   "outputs": [],
   "source": [
    "print(dds.varm[\"LFC\"])"
   ]
  },
  {
   "cell_type": "code",
   "execution_count": null,
   "id": "c925a59d-0db7-4b2a-8a2c-7e0717e34b16",
   "metadata": {},
   "outputs": [],
   "source": [
    "#statistical analysis\n",
    "stat_res = DeseqStats(dds, inference=inference)"
   ]
  },
  {
   "cell_type": "code",
   "execution_count": null,
   "id": "1605835f-8fb8-454a-ae0d-e8258ece2463",
   "metadata": {},
   "outputs": [],
   "source": [
    "stat_res.summary()"
   ]
  },
  {
   "cell_type": "code",
   "execution_count": null,
   "id": "153923ec-5cbf-4c26-8ca5-f03684a8ddb0",
   "metadata": {},
   "outputs": [],
   "source": [
    "results=stat_res.results_df\n",
    "results"
   ]
  },
  {
   "cell_type": "markdown",
   "id": "95226f15-2a18-4a9e-8898-07f6fd1fc87b",
   "metadata": {},
   "source": [
    "performing Gene Set Enrichment Analysis on DE genes that are highly significant with the p-value of less than 0.01"
   ]
  },
  {
   "cell_type": "code",
   "execution_count": null,
   "id": "4cf80eb5-fc96-41da-9f1f-8307841131ef",
   "metadata": {},
   "outputs": [],
   "source": [
    "sig_results=results[results[\"padj\"]< 0.01]\n",
    "sig_results"
   ]
  },
  {
   "cell_type": "markdown",
   "id": "d6a5327f-559a-4804-ad7c-feeb6126a4ab",
   "metadata": {},
   "source": [
    "subset genes that are more expressed (positive log2 fold change) in stim vs. ctrl"
   ]
  },
  {
   "cell_type": "code",
   "execution_count": null,
   "id": "7c6c15fd-f8f9-43f4-956e-b6d6be3a4a16",
   "metadata": {},
   "outputs": [],
   "source": [
    "pos_sig_results=sig_results[sig_results[\"log2FoldChange\"]>0]\n",
    "pos_sig_results"
   ]
  },
  {
   "cell_type": "code",
   "execution_count": null,
   "id": "83446fbb-346c-410e-a262-8fec431512fe",
   "metadata": {},
   "outputs": [],
   "source": [
    "gseapy.get_library_name(organism=\"Human\")"
   ]
  },
  {
   "cell_type": "code",
   "execution_count": null,
   "id": "35cbbadb-66f7-49e1-b89d-c2eb709046bd",
   "metadata": {},
   "outputs": [],
   "source": [
    "gse_result=gseapy.enrichr(gene_list=pos_sig_results.index.tolist(), gene_sets=[\"GO_Biological_Process_2023\"], \n",
    "                          organism=\"Human\",cutoff=0.05)\n",
    "gse_result.results.head()"
   ]
  },
  {
   "cell_type": "code",
   "execution_count": null,
   "id": "49386ce2-3a96-4ed9-8681-a8dec261fde1",
   "metadata": {},
   "outputs": [],
   "source": [
    "top_results=gse_result.results.sort_values(by=\"Adjusted P-value\")[0:10]\n",
    "top_results"
   ]
  },
  {
   "cell_type": "code",
   "execution_count": null,
   "id": "a69c6fa3-e4bd-4247-a8d7-927df0e63e0d",
   "metadata": {},
   "outputs": [],
   "source": [
    "ax=gseapy.barplot(gse_result.results, column=\"Adjusted P-value\", group=\"Gene set\", size=10,\n",
    "                  top_term=10)\n",
    "\n",
    "plt.show()"
   ]
  },
  {
   "cell_type": "code",
   "execution_count": null,
   "id": "fa9e63ff-af20-42f7-be44-85d6884462a2",
   "metadata": {},
   "outputs": [],
   "source": []
  },
  {
   "cell_type": "code",
   "execution_count": null,
   "id": "218360b7-06d3-499b-a6a7-41c1b43c7258",
   "metadata": {},
   "outputs": [],
   "source": []
  },
  {
   "cell_type": "code",
   "execution_count": null,
   "id": "a00fa930-a48d-413d-9674-b95e30934f01",
   "metadata": {},
   "outputs": [],
   "source": []
  },
  {
   "cell_type": "code",
   "execution_count": null,
   "id": "eea6eca7-0825-4274-80ec-981cef39b6bb",
   "metadata": {},
   "outputs": [],
   "source": []
  },
  {
   "cell_type": "code",
   "execution_count": null,
   "id": "f5787c05-3cb2-4082-94b1-42c836bf19ab",
   "metadata": {},
   "outputs": [],
   "source": []
  },
  {
   "cell_type": "code",
   "execution_count": null,
   "id": "5f0f07c3-8cb1-4526-9328-f10753bd7095",
   "metadata": {},
   "outputs": [],
   "source": []
  }
 ],
 "metadata": {
  "kernelspec": {
   "display_name": "Python 3 (ipykernel)",
   "language": "python",
   "name": "python3"
  },
  "language_info": {
   "codemirror_mode": {
    "name": "ipython",
    "version": 3
   },
   "file_extension": ".py",
   "mimetype": "text/x-python",
   "name": "python",
   "nbconvert_exporter": "python",
   "pygments_lexer": "ipython3",
   "version": "3.10.13"
  }
 },
 "nbformat": 4,
 "nbformat_minor": 5
}
