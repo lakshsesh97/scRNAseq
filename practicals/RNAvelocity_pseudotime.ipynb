{
 "cells": [
  {
   "cell_type": "markdown",
   "id": "3c4a3744-ab40-41b2-9a28-478c0631589e",
   "metadata": {},
   "source": [
    "###conda activate oldsc\n",
    "###then, run jupyter lab"
   ]
  },
  {
   "cell_type": "code",
   "execution_count": null,
   "id": "cd2832fe-0392-41ed-a5f3-597cd2c08c17",
   "metadata": {},
   "outputs": [],
   "source": [
    "import pandas as pd\n",
    "import numpy as np\n",
    "import matplotlib.pyplot as plt\n",
    "import seaborn as sns\n",
    "\n",
    "import scanpy as sc\n",
    "import scvelo as scv"
   ]
  },
  {
   "cell_type": "code",
   "execution_count": null,
   "id": "7c86ddc8-ea58-449b-a4dd-25c729757a24",
   "metadata": {},
   "outputs": [],
   "source": [
    "#feel free to change these settings according to your needs\n",
    "sc.set_figure_params(dpi=80, figsize=(4,4))\n",
    "sc.settings.verbosity=0\n",
    "plt.rcParams['figure.dpi'] = 80\n",
    "plt.rcParams['figure.figsize'] = (4, 4)"
   ]
  },
  {
   "cell_type": "code",
   "execution_count": null,
   "id": "43a3584b-a4fe-45b4-9451-d9b353ebec1a",
   "metadata": {},
   "outputs": [],
   "source": [
    "adata=scv.datasets.pancreas()\n",
    "adata"
   ]
  },
  {
   "cell_type": "code",
   "execution_count": null,
   "id": "84df040e-62e3-47d0-9a40-8957fef98d56",
   "metadata": {},
   "outputs": [],
   "source": [
    "sc.pl.umap(adata, color=[\"clusters_coarse\", \"clusters\"], wspace=0.4)"
   ]
  },
  {
   "cell_type": "code",
   "execution_count": null,
   "id": "909c0377-22e0-4683-a353-1d6bd72405f3",
   "metadata": {},
   "outputs": [],
   "source": [
    "scv.pl.proportions(adata)"
   ]
  },
  {
   "cell_type": "code",
   "execution_count": null,
   "id": "a79f2d67-4bcb-43cd-b370-88e2287e7e47",
   "metadata": {},
   "outputs": [],
   "source": [
    "adata.X.toarray()"
   ]
  },
  {
   "cell_type": "code",
   "execution_count": null,
   "id": "acd44e31-c66f-4c9d-a7f3-445b054ba7ce",
   "metadata": {},
   "outputs": [],
   "source": [
    "scv.pp.filter_and_normalize(adata, n_top_genes=2000, subset_highly_variable=True)"
   ]
  },
  {
   "cell_type": "code",
   "execution_count": null,
   "id": "8a1c2aa8-3193-4ea3-bbbe-4bdae4df537d",
   "metadata": {},
   "outputs": [],
   "source": [
    "adata"
   ]
  },
  {
   "cell_type": "code",
   "execution_count": null,
   "id": "938fa4b7-d220-4eb3-b9eb-a7114742f559",
   "metadata": {},
   "outputs": [],
   "source": [
    "scv.pp.moments(adata, n_pcs=None)"
   ]
  },
  {
   "cell_type": "code",
   "execution_count": null,
   "id": "b58e0046-e77d-4b8f-8c4a-5fa345f32306",
   "metadata": {},
   "outputs": [],
   "source": [
    "scv.tl.recover_dynamics(adata, n_jobs=8)"
   ]
  },
  {
   "cell_type": "code",
   "execution_count": null,
   "id": "af5c0538-ff67-4777-9e74-89f4e0e52d54",
   "metadata": {},
   "outputs": [],
   "source": [
    "scv.tl.velocity(adata, mode=\"dynamical\")\n",
    "scv.tl.velocity_graph(adata, n_jobs=8)"
   ]
  },
  {
   "cell_type": "code",
   "execution_count": null,
   "id": "132e8782-5c59-41f7-a937-38847b354777",
   "metadata": {},
   "outputs": [],
   "source": [
    "scv.pl.velocity_embedding_stream(adata)"
   ]
  },
  {
   "cell_type": "code",
   "execution_count": null,
   "id": "2921e843-b33c-4451-90bb-12de7311e4f0",
   "metadata": {},
   "outputs": [],
   "source": [
    "sc.pl.umap(adata, color=[\"S_score\", \"G2M_score\"])"
   ]
  },
  {
   "cell_type": "code",
   "execution_count": null,
   "id": "a422f1aa-a979-4ae5-a319-7a00ddb03a50",
   "metadata": {},
   "outputs": [],
   "source": [
    "scv.tl.latent_time(adata)"
   ]
  },
  {
   "cell_type": "code",
   "execution_count": null,
   "id": "8a918ac8-1f5b-4824-b544-06fa36aef023",
   "metadata": {},
   "outputs": [],
   "source": [
    "adata"
   ]
  },
  {
   "cell_type": "code",
   "execution_count": null,
   "id": "bc13926d-8c95-40af-a7f7-fa2bd8b474cf",
   "metadata": {},
   "outputs": [],
   "source": [
    "sc.pl.umap(adata, color=\"latent_time\")"
   ]
  },
  {
   "cell_type": "markdown",
   "id": "6c3f8488-e440-4fdd-b202-4a2cfc48b838",
   "metadata": {},
   "source": [
    "Finding genes that have cluster-specific differential velocity expression"
   ]
  },
  {
   "cell_type": "code",
   "execution_count": null,
   "id": "2ba62637-bb1b-41c5-b336-eb99abaa1473",
   "metadata": {},
   "outputs": [],
   "source": [
    "scv.tl.rank_velocity_genes(adata, groupby='clusters', min_corr=.3)\n",
    "\n",
    "df = pd.DataFrame(adata.uns['rank_velocity_genes']['names'])\n",
    "df.head()"
   ]
  },
  {
   "cell_type": "code",
   "execution_count": null,
   "id": "4ee26a76-61c1-4066-8f6d-3676505a4a23",
   "metadata": {},
   "outputs": [],
   "source": [
    "top_genes = adata.var['fit_likelihood'].sort_values(ascending=False).index[:300]\n",
    "scv.pl.heatmap(adata, var_names=top_genes, sortby='latent_time', col_color='clusters', n_convolve=100)\n"
   ]
  },
  {
   "cell_type": "code",
   "execution_count": null,
   "id": "bf755977-7bec-4709-8f00-484559bcd874",
   "metadata": {},
   "outputs": [],
   "source": []
  },
  {
   "cell_type": "code",
   "execution_count": null,
   "id": "5f48c046-d624-4c99-9ad8-2b85d0f69ba4",
   "metadata": {},
   "outputs": [],
   "source": []
  }
 ],
 "metadata": {
  "kernelspec": {
   "display_name": "Python 3 (ipykernel)",
   "language": "python",
   "name": "python3"
  },
  "language_info": {
   "codemirror_mode": {
    "name": "ipython",
    "version": 3
   },
   "file_extension": ".py",
   "mimetype": "text/x-python",
   "name": "python",
   "nbconvert_exporter": "python",
   "pygments_lexer": "ipython3",
   "version": "3.10.13"
  }
 },
 "nbformat": 4,
 "nbformat_minor": 5
}
