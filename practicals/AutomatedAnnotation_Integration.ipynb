{
 "cells": [
  {
   "cell_type": "code",
   "execution_count": null,
   "id": "ee121105-b5b9-4ca7-9e07-2de4dd505392",
   "metadata": {},
   "outputs": [],
   "source": [
    "import pandas as pd\n",
    "import numpy as np\n",
    "import matplotlib.pyplot as plt\n",
    "import seaborn as sns\n",
    "\n",
    "import scanpy as sc"
   ]
  },
  {
   "cell_type": "code",
   "execution_count": null,
   "id": "8dcd566c-2199-4742-9597-13bd57c4b83d",
   "metadata": {},
   "outputs": [],
   "source": [
    "import celltypist"
   ]
  },
  {
   "cell_type": "code",
   "execution_count": null,
   "id": "57750df8-1c1c-4ab2-970d-74a978e17571",
   "metadata": {},
   "outputs": [],
   "source": [
    "import anndata2ri\n",
    "import logging\n",
    "\n",
    "import rpy2.rinterface_lib.callbacks as rcb\n",
    "import rpy2.robjects as ro\n",
    "\n",
    "rcb.logger.setLevel(logging.ERROR)\n",
    "ro.pandas2ri.activate()\n",
    "anndata2ri.activate()\n",
    "\n",
    "%load_ext rpy2.ipython"
   ]
  },
  {
   "cell_type": "code",
   "execution_count": null,
   "id": "404928b0-0c70-4749-bfa0-7b8c79830c1a",
   "metadata": {},
   "outputs": [],
   "source": [
    "from rpy2.robjects import pandas2ri\n",
    "pandas2ri.deactivate()"
   ]
  },
  {
   "cell_type": "code",
   "execution_count": null,
   "id": "d5dbe1fd-9924-41ff-995c-18852e964983",
   "metadata": {},
   "outputs": [],
   "source": [
    "%%R\n",
    "library(Seurat)"
   ]
  },
  {
   "cell_type": "code",
   "execution_count": null,
   "id": "e7dd4af7-1f24-4091-8e33-5b4179f3a80a",
   "metadata": {},
   "outputs": [],
   "source": [
    "%%R\n",
    "library(S4Vectors)"
   ]
  },
  {
   "cell_type": "code",
   "execution_count": null,
   "id": "b7d8ff72-7458-4b5e-a233-5ecc49aa655d",
   "metadata": {},
   "outputs": [],
   "source": [
    "#feel free to change these settings according to your needs\n",
    "sc.set_figure_params(dpi=80, figsize=(4,4))\n",
    "sc.settings.verbosity=0\n",
    "plt.rcParams['figure.dpi'] = 80\n",
    "plt.rcParams['figure.figsize'] = (4, 4)"
   ]
  },
  {
   "cell_type": "code",
   "execution_count": null,
   "id": "517c4473-443e-4bc5-bd4c-eaf800cbfa6f",
   "metadata": {},
   "outputs": [],
   "source": [
    "import warnings\n",
    "warnings.filterwarnings('ignore')"
   ]
  },
  {
   "cell_type": "code",
   "execution_count": null,
   "id": "7aef8353-0bd6-478e-a0fe-bdc35eda58a8",
   "metadata": {},
   "outputs": [],
   "source": [
    "adata=sc.read(\"adata_version02.h5ad\")\n",
    "adata"
   ]
  },
  {
   "cell_type": "code",
   "execution_count": null,
   "id": "25b0f39b-9dd6-4432-b211-852079a3e47e",
   "metadata": {},
   "outputs": [],
   "source": [
    "sc.pl.umap(adata, color=\"annotation_curated\")"
   ]
  },
  {
   "cell_type": "code",
   "execution_count": null,
   "id": "0e20f547-9e78-4dad-9166-f29a6c01742f",
   "metadata": {},
   "outputs": [],
   "source": [
    "#subset endocrine cells\n",
    "adata_endo=adata[adata.obs[\"annotation_curated\"].isin([\"Ngn3 low EP\", \"Ngn3 high EP\", \"Fev+\", \n",
    "                                                       \"Beta\", \"Alpha\", \"Delta\", \"Epsilon\"])]\n",
    "adata_endo"
   ]
  },
  {
   "cell_type": "code",
   "execution_count": null,
   "id": "b50e3264-45fc-4d51-af8a-c24d442511b7",
   "metadata": {},
   "outputs": [],
   "source": [
    "sc.pl.umap(adata_endo, color=[\"annotation_curated\", \"day\"], wspace=0.5)"
   ]
  },
  {
   "cell_type": "code",
   "execution_count": null,
   "id": "50d581ed-bc71-40b5-ae14-4807a0049697",
   "metadata": {},
   "outputs": [],
   "source": [
    "adata_endo.uns[\"day_colors\"]"
   ]
  },
  {
   "cell_type": "code",
   "execution_count": null,
   "id": "8fb271b3-4d03-4c6d-9a81-b32b2a998352",
   "metadata": {},
   "outputs": [],
   "source": [
    "adata_endo.obs[\"day\"]"
   ]
  },
  {
   "cell_type": "code",
   "execution_count": null,
   "id": "df49f3ce-4bc1-408c-bfa0-11dafdacaa88",
   "metadata": {},
   "outputs": [],
   "source": [
    "query=adata_endo[adata_endo.obs[\"day\"].isin([\"13.5\"])]\n",
    "query"
   ]
  },
  {
   "cell_type": "code",
   "execution_count": null,
   "id": "232dadc1-7e89-4bf5-a739-c6cee1b600cd",
   "metadata": {},
   "outputs": [],
   "source": [
    "reference=adata_endo[~adata_endo.obs[\"day\"].isin([\"13.5\"])]\n",
    "reference"
   ]
  },
  {
   "cell_type": "code",
   "execution_count": null,
   "id": "a9799c30-1e26-452e-9339-a0245c5cb5f3",
   "metadata": {},
   "outputs": [],
   "source": [
    "#prepare our training and query dataset so that counts are normalized to 10,000 counts per cell, then log1p-transformed\n",
    "reference.X=reference.layers[\"count\"].copy()\n",
    "sc.pp.normalize_per_cell(reference, counts_per_cell_after=10**4)\n",
    "sc.pp.log1p(reference)\n",
    "\n",
    "query.X=query.layers[\"count\"].copy()\n",
    "sc.pp.normalize_per_cell(query, counts_per_cell_after=10**4)\n",
    "sc.pp.log1p(query)"
   ]
  },
  {
   "cell_type": "code",
   "execution_count": null,
   "id": "99fbd463-f068-421d-aee9-9dc1001b2a66",
   "metadata": {},
   "outputs": [],
   "source": [
    "custom_model = celltypist.train(reference, labels = 'annotation_curated', n_jobs = 8, feature_selection = True)"
   ]
  },
  {
   "cell_type": "code",
   "execution_count": null,
   "id": "111547d6-0e9f-4dcf-b3c5-751a1bfb4e3d",
   "metadata": {},
   "outputs": [],
   "source": [
    "predictions = celltypist.annotate(query, model = custom_model, \n",
    "                                  majority_voting = True)"
   ]
  },
  {
   "cell_type": "code",
   "execution_count": null,
   "id": "58c525bb-dd3d-41da-8860-fb4911ac4f8e",
   "metadata": {},
   "outputs": [],
   "source": [
    "query_pred = predictions.to_adata()\n",
    "query_pred"
   ]
  },
  {
   "cell_type": "code",
   "execution_count": null,
   "id": "3e8ebae3-c7cf-4aa9-9536-3423c7f4fb5a",
   "metadata": {},
   "outputs": [],
   "source": [
    "sc.pl.umap(query_pred, color = ['annotation_curated', 'predicted_labels', 'majority_voting'], wspace=0.4)"
   ]
  },
  {
   "cell_type": "code",
   "execution_count": null,
   "id": "8e97aff6-e2df-44e1-a828-0aeb93aed038",
   "metadata": {},
   "outputs": [],
   "source": [
    "celltypist.dotplot(predictions, use_as_reference = 'annotation_curated', use_as_prediction = 'predicted_labels')"
   ]
  },
  {
   "cell_type": "code",
   "execution_count": null,
   "id": "b3648af1-b92c-4685-89ed-5b1f05342cbe",
   "metadata": {},
   "outputs": [],
   "source": [
    "#make a copy of your anndata object\n",
    "adata_seurat = adata_endo.copy()\n",
    "\n",
    "# Convert categorical columns to strings\n",
    "batch_key=\"batch\"\n",
    "label_key=\"annotation_curated\"#\n",
    "adata_seurat.obs[batch_key] = adata_seurat.obs[batch_key].astype(str)\n",
    "adata_seurat.obs[label_key] = adata_seurat.obs[label_key].astype(str)\n",
    "# Delete uns as this can contain arbitrary objects which are difficult to convert\n",
    "del adata_seurat.uns\n",
    "adata_seurat"
   ]
  },
  {
   "cell_type": "code",
   "execution_count": null,
   "id": "d6456cf8-98f7-44d7-bdfe-7ee37855570b",
   "metadata": {},
   "outputs": [],
   "source": [
    "%%R -i adata_seurat\n",
    "adata_seurat"
   ]
  },
  {
   "cell_type": "code",
   "execution_count": null,
   "id": "2abf9d45-2833-471b-9878-39ce50a95dd1",
   "metadata": {},
   "outputs": [],
   "source": [
    "%%R -i adata_seurat\n",
    "seurat <- as.Seurat(adata_seurat, counts = \"count\", data = \"log1p_norm\")\n",
    "seurat"
   ]
  },
  {
   "cell_type": "code",
   "execution_count": null,
   "id": "4185beeb-5439-4d44-b754-630140b94660",
   "metadata": {},
   "outputs": [],
   "source": [
    "%%R -i batch_key\n",
    "batch_list <- SplitObject(seurat, split.by = batch_key)\n",
    "batch_list"
   ]
  },
  {
   "cell_type": "code",
   "execution_count": null,
   "id": "59f5d536-b306-4b32-b469-bea51118c45b",
   "metadata": {},
   "outputs": [],
   "source": [
    "%%R\n",
    "anchors <- FindIntegrationAnchors(batch_list, anchor.features = rownames(seurat))\n",
    "anchors"
   ]
  },
  {
   "cell_type": "code",
   "execution_count": null,
   "id": "d397306f-1265-4840-9062-caf8b89878fa",
   "metadata": {},
   "outputs": [],
   "source": [
    "%%R\n",
    "integrated <- IntegrateData(anchors)\n",
    "integrated"
   ]
  },
  {
   "cell_type": "code",
   "execution_count": null,
   "id": "5746c79e-a18f-4dfa-ad5d-576a74efa471",
   "metadata": {},
   "outputs": [],
   "source": [
    "%%R -o integrated_expr\n",
    "# Extract the integrated expression matrix\n",
    "integrated_expr <- GetAssayData(integrated)\n",
    "# Make sure the rows and columns are in the same order as the original object\n",
    "integrated_expr <- integrated_expr[rownames(seurat), colnames(seurat)]\n",
    "# Transpose the matrix to AnnData format\n",
    "integrated_expr <- t(integrated_expr)\n",
    "print(integrated_expr[1:10, 1:10])\n"
   ]
  },
  {
   "cell_type": "code",
   "execution_count": null,
   "id": "1c9035a9-87c9-4f7d-b5d4-7d8a86eb3f37",
   "metadata": {},
   "outputs": [],
   "source": [
    "adata_seurat.X = integrated_expr\n",
    "adata_seurat.layers[\"seurat\"] = integrated_expr\n",
    "print(adata_seurat)\n",
    "adata.X"
   ]
  },
  {
   "cell_type": "code",
   "execution_count": null,
   "id": "2c247eda-df2d-485d-a13b-d9bcd9db3e03",
   "metadata": {},
   "outputs": [],
   "source": [
    "adata_seurat.uns[batch_key + \"_colors\"] = ['#1f77b4', '#ff7f0e', '#279e68', '#d62728']\n",
    "sc.tl.pca(adata_seurat)\n",
    "sc.pp.neighbors(adata_seurat)\n",
    "sc.tl.umap(adata_seurat)\n",
    "sc.pl.umap(adata_seurat, color=[label_key, batch_key], wspace=0.5)"
   ]
  },
  {
   "cell_type": "code",
   "execution_count": null,
   "id": "f9ed89d6-5602-4dd8-9521-6765c81d9d23",
   "metadata": {},
   "outputs": [],
   "source": [
    "sc.pl.umap(adata_endo, color=[\"annotation_curated\", \"day\"], wspace=0.5)"
   ]
  }
 ],
 "metadata": {
  "kernelspec": {
   "display_name": "Python 3 (ipykernel)",
   "language": "python",
   "name": "python3"
  },
  "language_info": {
   "codemirror_mode": {
    "name": "ipython",
    "version": 3
   },
   "file_extension": ".py",
   "mimetype": "text/x-python",
   "name": "python",
   "nbconvert_exporter": "python",
   "pygments_lexer": "ipython3",
   "version": "3.10.13"
  }
 },
 "nbformat": 4,
 "nbformat_minor": 5
}
